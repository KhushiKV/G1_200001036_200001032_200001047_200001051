{
 "cells": [
  {
   "cell_type": "code",
   "execution_count": 24,
   "id": "5e9b7412",
   "metadata": {},
   "outputs": [],
   "source": [
    "import numpy as np \n",
    "import pandas as pd "
   ]
  },
  {
   "cell_type": "code",
   "execution_count": 5,
   "id": "0bac0dbe",
   "metadata": {},
   "outputs": [],
   "source": [
    "dataset=pd.read_csv('./spam.csv',encoding='latin-1')"
   ]
  },
  {
   "cell_type": "code",
   "execution_count": 6,
   "id": "94907a8a",
   "metadata": {},
   "outputs": [
    {
     "name": "stderr",
     "output_type": "stream",
     "text": [
      "[nltk_data] Downloading package stopwords to\n",
      "[nltk_data]     C:\\Users\\nehaj\\AppData\\Roaming\\nltk_data...\n",
      "[nltk_data]   Package stopwords is already up-to-date!\n"
     ]
    }
   ],
   "source": [
    "import re\n",
    "import nltk\n",
    "nltk.download('stopwords')\n",
    "from nltk.corpus import stopwords"
   ]
  },
  {
   "cell_type": "code",
   "execution_count": 7,
   "id": "60ca8f96",
   "metadata": {},
   "outputs": [],
   "source": [
    "\n",
    "textdata=[]\n",
    "#data_preprocessing\n",
    "for i in range(0,len(dataset.index)):\n",
    "    string= re.sub('[^a-zA-Z]',' ',dataset['text'][i])\n",
    "    string=string.lower()\n",
    "    string=string.split()\n",
    "    string=[word for word in string if not word in set(stopwords.words('english'))]\n",
    "    string=' '.join(string)\n",
    "    textdata.append(string)\n",
    "    "
   ]
  },
  {
   "cell_type": "code",
   "execution_count": 8,
   "id": "75f43906",
   "metadata": {},
   "outputs": [],
   "source": [
    "from sklearn.feature_extraction.text import TfidfVectorizer\n",
    "tf=TfidfVectorizer(max_features=3000)\n",
    "features=tf.fit_transform(textdata).toarray()"
   ]
  },
  {
   "cell_type": "code",
   "execution_count": 9,
   "id": "a78eafd1",
   "metadata": {},
   "outputs": [],
   "source": [
    "y=dataset['type'] "
   ]
  },
  {
   "cell_type": "code",
   "execution_count": 10,
   "id": "4cfe32a9",
   "metadata": {},
   "outputs": [],
   "source": [
    "from sklearn.preprocessing import LabelEncoder\n",
    "le=LabelEncoder()\n",
    "y=le.fit_transform(y) "
   ]
  },
  {
   "cell_type": "code",
   "execution_count": 11,
   "id": "8c74e7cf",
   "metadata": {},
   "outputs": [
    {
     "data": {
      "text/plain": [
       "array([0, 0, 1, ..., 0, 0, 0])"
      ]
     },
     "execution_count": 11,
     "metadata": {},
     "output_type": "execute_result"
    }
   ],
   "source": [
    "y "
   ]
  },
  {
   "cell_type": "code",
   "execution_count": 12,
   "id": "c7d66d5c",
   "metadata": {},
   "outputs": [],
   "source": [
    "from sklearn.model_selection import train_test_split\n",
    "X_train, X_test, y_train, y_test = train_test_split(features, y, test_size = 0.30)"
   ]
  },
  {
   "cell_type": "code",
   "execution_count": 36,
   "id": "3af6a441",
   "metadata": {},
   "outputs": [],
   "source": [
    "from sklearn.ensemble import RandomForestClassifier\n",
    "rfc=RandomForestClassifier(n_estimators=50,criterion='entropy')\n",
    "rfc.fit(X_train,y_train)\n",
    "y_prediction=rfc.predict(X_test)"
   ]
  },
  {
   "cell_type": "code",
   "execution_count": 38,
   "id": "0dd7da58",
   "metadata": {},
   "outputs": [
    {
     "name": "stdout",
     "output_type": "stream",
     "text": [
      "Accuracy score: 0.9838516746411483\n",
      "Precision score: 0.994475138121547\n",
      "Recall score: 0.8737864077669902\n",
      "F1 score: 0.9302325581395349\n",
      "0.9838516746411483\n"
     ]
    }
   ],
   "source": [
    "from sklearn import metrics\n",
    "from sklearn.metrics import accuracy_score,precision_score,recall_score,f1_score\n",
    "print('Accuracy score: {}'.format(accuracy_score(y_test, y_prediction)))\n",
    "print('Precision score: {}'.format(precision_score(y_test, y_prediction)))\n",
    "print('Recall score: {}'.format(recall_score(y_test, y_prediction)))\n",
    "print('F1 score: {}'.format(f1_score(y_test, y_prediction)))\n",
    "\n",
    "y_prediction = rfc.predict(X_test)\n",
    "print(metrics.accuracy_score(y_test, y_prediction))"
   ]
  },
  {
   "cell_type": "code",
   "execution_count": null,
   "id": "7c5d59fd",
   "metadata": {},
   "outputs": [],
   "source": []
  }
 ],
 "metadata": {
  "interpreter": {
   "hash": "63fd5069d213b44bf678585dea6b12cceca9941eaf7f819626cde1f2670de90d"
  },
  "kernelspec": {
   "display_name": "Python 3.9.7 64-bit",
   "name": "python3"
  },
  "language_info": {
   "codemirror_mode": {
    "name": "ipython",
    "version": 3
   },
   "file_extension": ".py",
   "mimetype": "text/x-python",
   "name": "python",
   "nbconvert_exporter": "python",
   "pygments_lexer": "ipython3",
   "version": "3.9.7"
  }
 },
 "nbformat": 4,
 "nbformat_minor": 5
}
